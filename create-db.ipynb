{
 "cells": [
  {
   "cell_type": "code",
   "execution_count": 1,
   "id": "6b45878f-519b-4c43-91cb-b3270441b23c",
   "metadata": {},
   "outputs": [],
   "source": [
    "#!pip install -U langchain-community\n",
    "#!pip install sentence-transformers chroma\n",
    "#!pip install langchain"
   ]
  },
  {
   "cell_type": "code",
   "execution_count": 2,
   "id": "e519b328-8308-4de9-ad5e-19abcc59c1ab",
   "metadata": {},
   "outputs": [],
   "source": [
    "from langchain.document_loaders import DirectoryLoader\n",
    "from langchain.text_splitter import RecursiveCharacterTextSplitter\n",
    "from langchain.schema import Document\n",
    "from langchain.embeddings import HuggingFaceEmbeddings\n",
    "from langchain.vectorstores.chroma import Chroma\n",
    "import os\n",
    "import shutil\n",
    "import pandas as pd"
   ]
  },
  {
   "cell_type": "code",
   "execution_count": 3,
   "id": "2693eb4b-72fb-4e8e-95b2-1351b77b8d1d",
   "metadata": {},
   "outputs": [],
   "source": [
    "CHROMA_PATH = \"chroma\"\n",
    "DATA_PATH = \"data\""
   ]
  },
  {
   "cell_type": "code",
   "execution_count": 4,
   "id": "277aad4d-8696-400d-a98a-f26602c59ad8",
   "metadata": {},
   "outputs": [],
   "source": [
    "def load_documents2():\n",
    "    loader = DirectoryLoader(DATA_PATH, glob=\"*.csv\")\n",
    "    documents = loader.load()\n",
    "    return documents"
   ]
  },
  {
   "cell_type": "code",
   "execution_count": 5,
   "id": "71a8c59f-fc06-43b5-8cb0-fdd175b696f9",
   "metadata": {},
   "outputs": [],
   "source": [
    "# Function to load documents\n",
    "def load_documents():\n",
    "    documents = []\n",
    "    for root, _, files in os.walk(DATA_PATH):  # Walk through the directory\n",
    "        for file in files:  # Iterate over the files\n",
    "            if file.endswith(\".csv\"):  # Check if the file is a CSV\n",
    "                file_path = os.path.join(root, file)  # Get the full file path\n",
    "                try:\n",
    "                    #df = pd.read_csv(file_path, encoding='ISO-8859-1')\n",
    "                    df = pd.read_csv(file_path, encoding='utf-8')  # Read the CSV file\n",
    "                    for _, row in df.iterrows():  # Iterate over each row in the CSV\n",
    "                        content = ' '.join(map(str, row))  # Convert row to string content\n",
    "                        documents.append(Document(page_content=content))  # Append as Document\n",
    "                except UnicodeDecodeError as e:  # Handle possible encoding errors\n",
    "                    print(f\"Error loading file {file_path}: {e}\")  # Print error message\n",
    "    return documents  # Return the list of documents"
   ]
  },
  {
   "cell_type": "code",
   "execution_count": 6,
   "id": "11a10913-5365-4bf4-a962-a9dc48d3457a",
   "metadata": {},
   "outputs": [],
   "source": [
    "def split_text(documents: list[Document]):\n",
    "    text_splitter = RecursiveCharacterTextSplitter(\n",
    "        chunk_size=300,\n",
    "        chunk_overlap=100,\n",
    "        length_function=len,\n",
    "        add_start_index=True,\n",
    "    )\n",
    "    chunks = text_splitter.split_documents(documents)\n",
    "    print(f\"Split {len(documents)} documents into {len(chunks)} chunks.\")\n",
    "\n",
    "    # Print the content and metadata of one example chunk\n",
    "    document = chunks[10]\n",
    "    print(document.page_content)\n",
    "    print(document.metadata)\n",
    "\n",
    "    return chunks"
   ]
  },
  {
   "cell_type": "code",
   "execution_count": 7,
   "id": "47f9d659-09c0-45e5-9fb8-7a711afedd58",
   "metadata": {},
   "outputs": [],
   "source": [
    "def save_to_chroma(chunks: list[Document]):\n",
    "    # Clear out the database first\n",
    "    if os.path.exists(CHROMA_PATH):\n",
    "        shutil.rmtree(CHROMA_PATH)\n",
    "\n",
    "    # Create a new DB from the documents\n",
    "    db = Chroma.from_documents(\n",
    "        chunks, HuggingFaceEmbeddings(), persist_directory=CHROMA_PATH\n",
    "    )\n",
    "    db.persist()\n",
    "    print(f\"Saved {len(chunks)} chunks to {CHROMA_PATH}.\")\n"
   ]
  },
  {
   "cell_type": "code",
   "execution_count": 8,
   "id": "d5da07c6-9551-4be0-8582-6f884ea41075",
   "metadata": {},
   "outputs": [],
   "source": [
    "documents = load_documents()"
   ]
  },
  {
   "cell_type": "code",
   "execution_count": 9,
   "id": "461de49f-7a0b-4185-8ad7-0011c75387ce",
   "metadata": {},
   "outputs": [
    {
     "name": "stdout",
     "output_type": "stream",
     "text": [
      "Split 3020 documents into 25007 chunks.\n",
      "Le cyborg dans la mégapole en ruine Le cyborg restaure l'ordre en franchissant 7 niveaux urbains, piratant des systèmes de sécurité, désactivant des drones, traversant des bâtiments effondrés, déjouant des robots, reprogrammant des systèmes de défense, sauvant des civils et combattant un boss\n",
      "{'start_index': 0}\n"
     ]
    }
   ],
   "source": [
    "chunks = split_text(documents)"
   ]
  },
  {
   "cell_type": "code",
   "execution_count": null,
   "id": "a92fdb50-1715-40f2-b53c-c48bb80b0f9f",
   "metadata": {},
   "outputs": [
    {
     "name": "stderr",
     "output_type": "stream",
     "text": [
      "C:\\Users\\HP\\Desktop\\LSI-S4\\DL\\projet\\myvenv\\Lib\\site-packages\\tqdm\\auto.py:21: TqdmWarning: IProgress not found. Please update jupyter and ipywidgets. See https://ipywidgets.readthedocs.io/en/stable/user_install.html\n",
      "  from .autonotebook import tqdm as notebook_tqdm\n",
      "C:\\Users\\HP\\Desktop\\LSI-S4\\DL\\projet\\myvenv\\Lib\\site-packages\\huggingface_hub\\file_download.py:1132: FutureWarning: `resume_download` is deprecated and will be removed in version 1.0.0. Downloads always resume when possible. If you want to force a new download, use `force_download=True`.\n",
      "  warnings.warn(\n"
     ]
    }
   ],
   "source": [
    "save_to_chroma(chunks)"
   ]
  },
  {
   "cell_type": "code",
   "execution_count": null,
   "id": "a7acc490-043a-4384-bd78-e25bd60c8ec1",
   "metadata": {},
   "outputs": [],
   "source": [
    "print(\"OK\")"
   ]
  },
  {
   "cell_type": "code",
   "execution_count": null,
   "id": "d846e273-b920-43e2-baa3-34edf7d87910",
   "metadata": {},
   "outputs": [],
   "source": []
  }
 ],
 "metadata": {
  "kernelspec": {
   "display_name": "torch_kernel",
   "language": "python",
   "name": "torch_kernel"
  },
  "language_info": {
   "codemirror_mode": {
    "name": "ipython",
    "version": 3
   },
   "file_extension": ".py",
   "mimetype": "text/x-python",
   "name": "python",
   "nbconvert_exporter": "python",
   "pygments_lexer": "ipython3",
   "version": "3.12.0"
  }
 },
 "nbformat": 4,
 "nbformat_minor": 5
}
