{
 "cells": [
  {
   "cell_type": "code",
   "execution_count": 2,
   "id": "cff6f0da-c5ed-4173-b917-030960abeaf4",
   "metadata": {},
   "outputs": [],
   "source": [
    "import pandas as pd"
   ]
  },
  {
   "cell_type": "code",
   "execution_count": 3,
   "id": "54c3d919-7a7b-493d-8576-4b434dc179b4",
   "metadata": {},
   "outputs": [],
   "source": [
    "# Read the CSV file into a DataFrame\n",
    "#df = pd.read_csv('dataset/games.csv')\n",
    "df = pd.read_csv('dataset/video_game_bestsellers.csv')"
   ]
  },
  {
   "cell_type": "code",
   "execution_count": 4,
   "id": "edb6b828-4d89-4867-b4b6-19d20334eea4",
   "metadata": {},
   "outputs": [
    {
     "data": {
      "text/html": [
       "<div>\n",
       "<style scoped>\n",
       "    .dataframe tbody tr th:only-of-type {\n",
       "        vertical-align: middle;\n",
       "    }\n",
       "\n",
       "    .dataframe tbody tr th {\n",
       "        vertical-align: top;\n",
       "    }\n",
       "\n",
       "    .dataframe thead th {\n",
       "        text-align: right;\n",
       "    }\n",
       "</style>\n",
       "<table border=\"1\" class=\"dataframe\">\n",
       "  <thead>\n",
       "    <tr style=\"text-align: right;\">\n",
       "      <th></th>\n",
       "      <th>Unnamed: 0</th>\n",
       "      <th>Title</th>\n",
       "      <th>Genre(s)</th>\n",
       "      <th>wiki_page</th>\n",
       "      <th>Console</th>\n",
       "    </tr>\n",
       "  </thead>\n",
       "  <tbody>\n",
       "    <tr>\n",
       "      <th>0</th>\n",
       "      <td>0</td>\n",
       "      <td>Marvel's Spider-Man</td>\n",
       "      <td>Action-adventure</td>\n",
       "      <td>Marvel's Spider-Man is a 2018 action-adventure...</td>\n",
       "      <td>PS4</td>\n",
       "    </tr>\n",
       "    <tr>\n",
       "      <th>1</th>\n",
       "      <td>1</td>\n",
       "      <td>Uncharted 4: A Thief's End</td>\n",
       "      <td>Action-adventure</td>\n",
       "      <td>Uncharted 4: A Thief's End is a 2016 action-ad...</td>\n",
       "      <td>PS4</td>\n",
       "    </tr>\n",
       "    <tr>\n",
       "      <th>2</th>\n",
       "      <td>2</td>\n",
       "      <td>The Witcher 3: Wild Hunt</td>\n",
       "      <td>Action role-playing</td>\n",
       "      <td>The Witcher 3: Wild Hunt is a 2015 action role...</td>\n",
       "      <td>PS4</td>\n",
       "    </tr>\n",
       "    <tr>\n",
       "      <th>3</th>\n",
       "      <td>3</td>\n",
       "      <td>The Last of Us Remastered</td>\n",
       "      <td>Action-adventuresurvival horror</td>\n",
       "      <td>The Last of Us is a 2013 action-adventure game...</td>\n",
       "      <td>PS4</td>\n",
       "    </tr>\n",
       "    <tr>\n",
       "      <th>4</th>\n",
       "      <td>4</td>\n",
       "      <td>Star Wars Battlefront</td>\n",
       "      <td>First-person shooterthird-person shooter</td>\n",
       "      <td>Star Wars: Battlefront is a series of first- a...</td>\n",
       "      <td>PS4</td>\n",
       "    </tr>\n",
       "  </tbody>\n",
       "</table>\n",
       "</div>"
      ],
      "text/plain": [
       "   Unnamed: 0                       Title  \\\n",
       "0           0         Marvel's Spider-Man   \n",
       "1           1  Uncharted 4: A Thief's End   \n",
       "2           2    The Witcher 3: Wild Hunt   \n",
       "3           3   The Last of Us Remastered   \n",
       "4           4       Star Wars Battlefront   \n",
       "\n",
       "                                   Genre(s)  \\\n",
       "0                          Action-adventure   \n",
       "1                          Action-adventure   \n",
       "2                       Action role-playing   \n",
       "3           Action-adventuresurvival horror   \n",
       "4  First-person shooterthird-person shooter   \n",
       "\n",
       "                                           wiki_page Console  \n",
       "0  Marvel's Spider-Man is a 2018 action-adventure...     PS4  \n",
       "1  Uncharted 4: A Thief's End is a 2016 action-ad...     PS4  \n",
       "2  The Witcher 3: Wild Hunt is a 2015 action role...     PS4  \n",
       "3  The Last of Us is a 2013 action-adventure game...     PS4  \n",
       "4  Star Wars: Battlefront is a series of first- a...     PS4  "
      ]
     },
     "execution_count": 4,
     "metadata": {},
     "output_type": "execute_result"
    }
   ],
   "source": [
    "df.head()"
   ]
  },
  {
   "cell_type": "code",
   "execution_count": 5,
   "id": "0e4dfcc9-886a-4240-917e-8980ad3845bb",
   "metadata": {},
   "outputs": [],
   "source": [
    "# Remove attributes you don't want\n",
    "#columns_to_remove = ['AppID', 'Release date', 'Estimated owners', 'Peak CCU', 'Required age',\n",
    "#                     'Price', 'DLC count', 'Full audio languages' ,'Reviews', 'Header image', 'Website', 'Support url',\n",
    "#                     'Support email', 'Windows', 'Mac', 'Linux', 'Metacritic score', 'Metacritic url',\n",
    "#                     'User score', 'Positive', 'Negative', 'Score rank', 'Achievements', 'Recommendations',\n",
    "#                     'Notes', 'Average playtime forever', 'Average playtime two weeks',\n",
    "#                     'Median playtime forever', 'Median playtime two weeks', 'Developers', 'Publishers',\n",
    "#                     'Screenshots', 'Movies']\n",
    "\n",
    "columns_to_remove = ['Unnamed: 0', 'Genre(s)', 'Console']"
   ]
  },
  {
   "cell_type": "code",
   "execution_count": 6,
   "id": "4901aaf2-9ea4-4509-8c35-ae99921ce9f3",
   "metadata": {},
   "outputs": [],
   "source": [
    "df = df.drop(columns=columns_to_remove)"
   ]
  },
  {
   "cell_type": "code",
   "execution_count": 7,
   "id": "82072979-d287-4dc6-aa81-4c2395a24cca",
   "metadata": {},
   "outputs": [],
   "source": [
    "# Rename the attributes\n",
    "#new_column_names = {'Name': 'Nom', 'About the game': 'Description',\n",
    "#                    'Supported languages': 'Langues', 'Categories': 'Categories',\n",
    "#                    'Genres': 'Genres', 'Tags': 'Mots-cles'}\n",
    "\n",
    "new_column_names = {'Title': 'Nom', 'wiki_page': 'Description'}"
   ]
  },
  {
   "cell_type": "code",
   "execution_count": 8,
   "id": "2556d8cd-fc1a-4b3a-b15f-bf36ba908a1b",
   "metadata": {},
   "outputs": [],
   "source": [
    "df = df.rename(columns=new_column_names)"
   ]
  },
  {
   "cell_type": "code",
   "execution_count": 11,
   "id": "d7f8d4f0-5d13-4579-8a09-3d11eb27d83d",
   "metadata": {},
   "outputs": [
    {
     "data": {
      "text/html": [
       "<div>\n",
       "<style scoped>\n",
       "    .dataframe tbody tr th:only-of-type {\n",
       "        vertical-align: middle;\n",
       "    }\n",
       "\n",
       "    .dataframe tbody tr th {\n",
       "        vertical-align: top;\n",
       "    }\n",
       "\n",
       "    .dataframe thead th {\n",
       "        text-align: right;\n",
       "    }\n",
       "</style>\n",
       "<table border=\"1\" class=\"dataframe\">\n",
       "  <thead>\n",
       "    <tr style=\"text-align: right;\">\n",
       "      <th></th>\n",
       "      <th>Nom</th>\n",
       "      <th>Description</th>\n",
       "    </tr>\n",
       "  </thead>\n",
       "  <tbody>\n",
       "    <tr>\n",
       "      <th>0</th>\n",
       "      <td>Marvel's Spider-Man</td>\n",
       "      <td>Marvel's Spider-Man is a 2018 action-adventure...</td>\n",
       "    </tr>\n",
       "    <tr>\n",
       "      <th>1</th>\n",
       "      <td>Uncharted 4: A Thief's End</td>\n",
       "      <td>Uncharted 4: A Thief's End is a 2016 action-ad...</td>\n",
       "    </tr>\n",
       "    <tr>\n",
       "      <th>2</th>\n",
       "      <td>The Witcher 3: Wild Hunt</td>\n",
       "      <td>The Witcher 3: Wild Hunt is a 2015 action role...</td>\n",
       "    </tr>\n",
       "    <tr>\n",
       "      <th>3</th>\n",
       "      <td>The Last of Us Remastered</td>\n",
       "      <td>The Last of Us is a 2013 action-adventure game...</td>\n",
       "    </tr>\n",
       "    <tr>\n",
       "      <th>4</th>\n",
       "      <td>Star Wars Battlefront</td>\n",
       "      <td>Star Wars: Battlefront is a series of first- a...</td>\n",
       "    </tr>\n",
       "  </tbody>\n",
       "</table>\n",
       "</div>"
      ],
      "text/plain": [
       "                          Nom  \\\n",
       "0         Marvel's Spider-Man   \n",
       "1  Uncharted 4: A Thief's End   \n",
       "2    The Witcher 3: Wild Hunt   \n",
       "3   The Last of Us Remastered   \n",
       "4       Star Wars Battlefront   \n",
       "\n",
       "                                         Description  \n",
       "0  Marvel's Spider-Man is a 2018 action-adventure...  \n",
       "1  Uncharted 4: A Thief's End is a 2016 action-ad...  \n",
       "2  The Witcher 3: Wild Hunt is a 2015 action role...  \n",
       "3  The Last of Us is a 2013 action-adventure game...  \n",
       "4  Star Wars: Battlefront is a series of first- a...  "
      ]
     },
     "execution_count": 11,
     "metadata": {},
     "output_type": "execute_result"
    }
   ],
   "source": [
    "df.head()"
   ]
  },
  {
   "cell_type": "code",
   "execution_count": 12,
   "id": "8851021e-57e1-4028-96d2-1ffdf71989e2",
   "metadata": {},
   "outputs": [
    {
     "name": "stdout",
     "output_type": "stream",
     "text": [
      "<class 'pandas.core.frame.DataFrame'>\n",
      "RangeIndex: 89 entries, 0 to 88\n",
      "Data columns (total 2 columns):\n",
      " #   Column       Non-Null Count  Dtype \n",
      "---  ------       --------------  ----- \n",
      " 0   Nom          89 non-null     object\n",
      " 1   Description  89 non-null     object\n",
      "dtypes: object(2)\n",
      "memory usage: 1.5+ KB\n"
     ]
    }
   ],
   "source": [
    "df.info()"
   ]
  },
  {
   "cell_type": "code",
   "execution_count": 13,
   "id": "711086c9-ac15-4df6-abd8-b05cb0329750",
   "metadata": {},
   "outputs": [],
   "source": [
    "# Save the new dataset in a new CSV file\n",
    "df.to_csv('dataset/video_game_bestsellers.csv', index=False)"
   ]
  },
  {
   "cell_type": "code",
   "execution_count": 11,
   "id": "30b01411-ebaa-4aea-a43b-362c331c1ed2",
   "metadata": {},
   "outputs": [],
   "source": [
    "# DATA CLEANING"
   ]
  },
  {
   "cell_type": "code",
   "execution_count": 12,
   "id": "24ed081d-924e-4d0a-bfe4-16d5e746294f",
   "metadata": {},
   "outputs": [],
   "source": [
    "data = pd.read_csv('dataset/datasetENG.csv')"
   ]
  },
  {
   "cell_type": "code",
   "execution_count": 13,
   "id": "06a135a0-96f9-4807-a1df-9a83977092ce",
   "metadata": {},
   "outputs": [
    {
     "data": {
      "text/html": [
       "<div>\n",
       "<style scoped>\n",
       "    .dataframe tbody tr th:only-of-type {\n",
       "        vertical-align: middle;\n",
       "    }\n",
       "\n",
       "    .dataframe tbody tr th {\n",
       "        vertical-align: top;\n",
       "    }\n",
       "\n",
       "    .dataframe thead th {\n",
       "        text-align: right;\n",
       "    }\n",
       "</style>\n",
       "<table border=\"1\" class=\"dataframe\">\n",
       "  <thead>\n",
       "    <tr style=\"text-align: right;\">\n",
       "      <th></th>\n",
       "      <th>Nom</th>\n",
       "      <th>Description</th>\n",
       "      <th>Langues</th>\n",
       "      <th>Categories</th>\n",
       "      <th>Genres</th>\n",
       "      <th>Mots-cles</th>\n",
       "    </tr>\n",
       "  </thead>\n",
       "  <tbody>\n",
       "    <tr>\n",
       "      <th>0</th>\n",
       "      <td>Galactic Bowling</td>\n",
       "      <td>Galactic Bowling is an exaggerated and stylize...</td>\n",
       "      <td>['English']</td>\n",
       "      <td>Single-player,Multi-player,Steam Achievements,...</td>\n",
       "      <td>Casual,Indie,Sports</td>\n",
       "      <td>Indie,Casual,Sports,Bowling</td>\n",
       "    </tr>\n",
       "    <tr>\n",
       "      <th>1</th>\n",
       "      <td>Train Bandit</td>\n",
       "      <td>THE LAW!! Looks to be a showdown atop a train....</td>\n",
       "      <td>['English', 'French', 'Italian', 'German', 'Sp...</td>\n",
       "      <td>Single-player,Steam Achievements,Full controll...</td>\n",
       "      <td>Action,Indie</td>\n",
       "      <td>Indie,Action,Pixel Graphics,2D,Retro,Arcade,Sc...</td>\n",
       "    </tr>\n",
       "    <tr>\n",
       "      <th>2</th>\n",
       "      <td>Jolt Project</td>\n",
       "      <td>Jolt Project: The army now has a new robotics ...</td>\n",
       "      <td>['English', 'Portuguese - Brazil']</td>\n",
       "      <td>Single-player</td>\n",
       "      <td>Action,Adventure,Indie,Strategy</td>\n",
       "      <td>NaN</td>\n",
       "    </tr>\n",
       "    <tr>\n",
       "      <th>3</th>\n",
       "      <td>Henosis™</td>\n",
       "      <td>HENOSIS™ is a mysterious 2D Platform Puzzler w...</td>\n",
       "      <td>['English', 'French', 'Italian', 'German', 'Sp...</td>\n",
       "      <td>Single-player,Full controller support</td>\n",
       "      <td>Adventure,Casual,Indie</td>\n",
       "      <td>2D Platformer,Atmospheric,Surreal,Mystery,Puzz...</td>\n",
       "    </tr>\n",
       "    <tr>\n",
       "      <th>4</th>\n",
       "      <td>Two Weeks in Painland</td>\n",
       "      <td>ABOUT THE GAME Play as a hacker who has arrang...</td>\n",
       "      <td>['English', 'Spanish - Spain']</td>\n",
       "      <td>Single-player,Steam Achievements</td>\n",
       "      <td>Adventure,Indie</td>\n",
       "      <td>Indie,Adventure,Nudity,Violent,Sexual Content,...</td>\n",
       "    </tr>\n",
       "  </tbody>\n",
       "</table>\n",
       "</div>"
      ],
      "text/plain": [
       "                     Nom                                        Description  \\\n",
       "0       Galactic Bowling  Galactic Bowling is an exaggerated and stylize...   \n",
       "1           Train Bandit  THE LAW!! Looks to be a showdown atop a train....   \n",
       "2           Jolt Project  Jolt Project: The army now has a new robotics ...   \n",
       "3               Henosis™  HENOSIS™ is a mysterious 2D Platform Puzzler w...   \n",
       "4  Two Weeks in Painland  ABOUT THE GAME Play as a hacker who has arrang...   \n",
       "\n",
       "                                             Langues  \\\n",
       "0                                        ['English']   \n",
       "1  ['English', 'French', 'Italian', 'German', 'Sp...   \n",
       "2                 ['English', 'Portuguese - Brazil']   \n",
       "3  ['English', 'French', 'Italian', 'German', 'Sp...   \n",
       "4                     ['English', 'Spanish - Spain']   \n",
       "\n",
       "                                          Categories  \\\n",
       "0  Single-player,Multi-player,Steam Achievements,...   \n",
       "1  Single-player,Steam Achievements,Full controll...   \n",
       "2                                      Single-player   \n",
       "3              Single-player,Full controller support   \n",
       "4                   Single-player,Steam Achievements   \n",
       "\n",
       "                            Genres  \\\n",
       "0              Casual,Indie,Sports   \n",
       "1                     Action,Indie   \n",
       "2  Action,Adventure,Indie,Strategy   \n",
       "3           Adventure,Casual,Indie   \n",
       "4                  Adventure,Indie   \n",
       "\n",
       "                                           Mots-cles  \n",
       "0                        Indie,Casual,Sports,Bowling  \n",
       "1  Indie,Action,Pixel Graphics,2D,Retro,Arcade,Sc...  \n",
       "2                                                NaN  \n",
       "3  2D Platformer,Atmospheric,Surreal,Mystery,Puzz...  \n",
       "4  Indie,Adventure,Nudity,Violent,Sexual Content,...  "
      ]
     },
     "execution_count": 13,
     "metadata": {},
     "output_type": "execute_result"
    }
   ],
   "source": [
    "data.head()"
   ]
  },
  {
   "cell_type": "code",
   "execution_count": 14,
   "id": "9d3ade17-6cb7-4c53-bc95-c826db899447",
   "metadata": {},
   "outputs": [
    {
     "name": "stdout",
     "output_type": "stream",
     "text": [
      "<class 'pandas.core.frame.DataFrame'>\n",
      "RangeIndex: 85103 entries, 0 to 85102\n",
      "Data columns (total 6 columns):\n",
      " #   Column       Non-Null Count  Dtype \n",
      "---  ------       --------------  ----- \n",
      " 0   Nom          85097 non-null  object\n",
      " 1   Description  81536 non-null  object\n",
      " 2   Langues      85103 non-null  object\n",
      " 3   Categories   80505 non-null  object\n",
      " 4   Genres       81548 non-null  object\n",
      " 5   Mots-cles    64003 non-null  object\n",
      "dtypes: object(6)\n",
      "memory usage: 3.9+ MB\n"
     ]
    }
   ],
   "source": [
    "data.info()"
   ]
  },
  {
   "cell_type": "code",
   "execution_count": 15,
   "id": "dac744c5-feda-44b9-83e9-709960f06be0",
   "metadata": {},
   "outputs": [],
   "source": [
    "# Function to parse the language list and check if 'English' is in it\n",
    "def contains_english(languages):\n",
    "    try:\n",
    "        language_list = eval(languages.replace(\"'\", '\"'))  # Convert single quotes to double quotes\n",
    "        return 'English' in language_list\n",
    "    except:\n",
    "        return False"
   ]
  },
  {
   "cell_type": "code",
   "execution_count": 16,
   "id": "8d95a61a-84b4-40c5-b88e-1416eacda813",
   "metadata": {},
   "outputs": [],
   "source": [
    "# Filter rows where langues is not English\n",
    "data = data[data['Langues'].apply(contains_english)]"
   ]
  },
  {
   "cell_type": "code",
   "execution_count": 17,
   "id": "5fa9d945-fa5d-45ea-b1f4-f94ce5deb238",
   "metadata": {},
   "outputs": [
    {
     "name": "stdout",
     "output_type": "stream",
     "text": [
      "<class 'pandas.core.frame.DataFrame'>\n",
      "Index: 77698 entries, 0 to 85102\n",
      "Data columns (total 6 columns):\n",
      " #   Column       Non-Null Count  Dtype \n",
      "---  ------       --------------  ----- \n",
      " 0   Nom          77694 non-null  object\n",
      " 1   Description  77594 non-null  object\n",
      " 2   Langues      77698 non-null  object\n",
      " 3   Categories   76559 non-null  object\n",
      " 4   Genres       77611 non-null  object\n",
      " 5   Mots-cles    61701 non-null  object\n",
      "dtypes: object(6)\n",
      "memory usage: 4.1+ MB\n"
     ]
    }
   ],
   "source": [
    "data.info()"
   ]
  },
  {
   "cell_type": "code",
   "execution_count": 18,
   "id": "2071c7f0-aed1-4e80-bea7-0e139edf637f",
   "metadata": {},
   "outputs": [],
   "source": [
    "data = data.drop(columns=\"Langues\")"
   ]
  },
  {
   "cell_type": "code",
   "execution_count": 19,
   "id": "cdebcc71-d60f-4f24-8167-5166f304d248",
   "metadata": {},
   "outputs": [
    {
     "name": "stdout",
     "output_type": "stream",
     "text": [
      "<class 'pandas.core.frame.DataFrame'>\n",
      "Index: 77698 entries, 0 to 85102\n",
      "Data columns (total 5 columns):\n",
      " #   Column       Non-Null Count  Dtype \n",
      "---  ------       --------------  ----- \n",
      " 0   Nom          77694 non-null  object\n",
      " 1   Description  77594 non-null  object\n",
      " 2   Categories   76559 non-null  object\n",
      " 3   Genres       77611 non-null  object\n",
      " 4   Mots-cles    61701 non-null  object\n",
      "dtypes: object(5)\n",
      "memory usage: 3.6+ MB\n"
     ]
    }
   ],
   "source": [
    "data.info()"
   ]
  },
  {
   "cell_type": "code",
   "execution_count": 20,
   "id": "c31eb6cd-abdd-4e56-8777-db9f7781b27c",
   "metadata": {},
   "outputs": [],
   "source": [
    "# Filter rows with null values in specified columns\n",
    "columns_to_check = ['Nom', 'Description', 'Categories', 'Genres', 'Mots-cles']\n",
    "data = data.dropna(subset=columns_to_check)"
   ]
  },
  {
   "cell_type": "code",
   "execution_count": 21,
   "id": "43033253-fb2a-4ce3-b845-0b28c00bf325",
   "metadata": {},
   "outputs": [
    {
     "name": "stdout",
     "output_type": "stream",
     "text": [
      "<class 'pandas.core.frame.DataFrame'>\n",
      "Index: 60667 entries, 0 to 85094\n",
      "Data columns (total 5 columns):\n",
      " #   Column       Non-Null Count  Dtype \n",
      "---  ------       --------------  ----- \n",
      " 0   Nom          60667 non-null  object\n",
      " 1   Description  60667 non-null  object\n",
      " 2   Categories   60667 non-null  object\n",
      " 3   Genres       60667 non-null  object\n",
      " 4   Mots-cles    60667 non-null  object\n",
      "dtypes: object(5)\n",
      "memory usage: 2.8+ MB\n"
     ]
    }
   ],
   "source": [
    "data.info()"
   ]
  },
  {
   "cell_type": "code",
   "execution_count": 22,
   "id": "45d19b98-5b58-4d5d-834a-f6ef977c21dc",
   "metadata": {},
   "outputs": [],
   "source": [
    "data.to_csv('dataset/datasetENG.csv', index=False)"
   ]
  }
 ],
 "metadata": {
  "kernelspec": {
   "display_name": "Python 3 (ipykernel)",
   "language": "python",
   "name": "python3"
  },
  "language_info": {
   "codemirror_mode": {
    "name": "ipython",
    "version": 3
   },
   "file_extension": ".py",
   "mimetype": "text/x-python",
   "name": "python",
   "nbconvert_exporter": "python",
   "pygments_lexer": "ipython3",
   "version": "3.12.0"
  }
 },
 "nbformat": 4,
 "nbformat_minor": 5
}
