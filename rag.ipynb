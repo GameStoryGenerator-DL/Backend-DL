{
 "cells": [
  {
   "cell_type": "code",
   "execution_count": 3,
   "id": "22c57ca0-781e-47a0-8327-271bcafa09c3",
   "metadata": {},
   "outputs": [],
   "source": [
    "import argparse\n",
    "from dataclasses import dataclass\n",
    "from langchain.vectorstores.chroma import Chroma\n",
    "from langchain.embeddings import HuggingFaceEmbeddings\n",
    "from langchain.prompts import ChatPromptTemplate\n",
    "from transformers import pipeline"
   ]
  },
  {
   "cell_type": "code",
   "execution_count": 4,
   "id": "966cfff6-6ba3-449e-9550-e0651c0822dc",
   "metadata": {},
   "outputs": [],
   "source": [
    "CHROMA_PATH = \"chroma\"\n",
    "\n",
    "PROMPT_TEMPLATE = \"\"\"\n",
    "Générer une histoire de jeux vidéo en se basant sur cette phrase : \"## {question} ##\" et selon le contexte suivant :\n",
    "\n",
    "{context}\n",
    "\n",
    "---\n",
    "\n",
    "Générer une histoire de jeux vidéo en se basant sur cette phrase : \"## {question} ##\" et selon le contexte donné ci-dessus\n",
    "\"\"\""
   ]
  },
  {
   "cell_type": "code",
   "execution_count": 6,
   "id": "d53b0eb6-682a-43fa-b8e2-e9e3c04f3666",
   "metadata": {},
   "outputs": [],
   "source": [
    "# Function to handle the main logic\n",
    "def main(query_text):\n",
    "    # Prepare the DB.\n",
    "    embedding_function = HuggingFaceEmbeddings()\n",
    "    db = Chroma(persist_directory=CHROMA_PATH, embedding_function=embedding_function)\n",
    "\n",
    "    # Search the DB.\n",
    "    results = db.similarity_search_with_relevance_scores(query_text, k=1)\n",
    "    #if len(results) == 0 or results[0][1] < 0.7:\n",
    "    #    print(f\"Unable to find matching results.\")\n",
    "    #    return\n",
    "\n",
    "    context_text = \"\\n\\n---\\n\\n\".join([doc.page_content for doc, _score in results])\n",
    "    #corrected_context = correct_encoding(context_text)\n",
    "    prompt_template = ChatPromptTemplate.from_template(PROMPT_TEMPLATE)\n",
    "    prompt = prompt_template.format(context=context_text, question=query_text)\n",
    "    print(\"Prompt:\", prompt)\n",
    "\n",
    "    generator = pipeline('text-generation', model='DLProjectLSI/Phi-3-mini-4k_16bit')\n",
    "    response = generator(prompt, max_length=1024, num_return_sequences=1,truncation=True)\n",
    "    response_text = response[0]['generated_text']\n",
    "\n",
    "    sources = [doc.metadata.get(\"source\", None) for doc, _score in results]\n",
    "    formatted_response = f\"Response: {response_text}\\nSources: {sources}\"\n",
    "    print(formatted_response)"
   ]
  },
  {
   "cell_type": "code",
   "execution_count": null,
   "id": "fbf9d7b2-5f18-4ec9-bfc2-023dbc4f9102",
   "metadata": {},
   "outputs": [],
   "source": []
  }
 ],
 "metadata": {
  "kernelspec": {
   "display_name": "torch_kernel",
   "language": "python",
   "name": "torch_kernel"
  },
  "language_info": {
   "codemirror_mode": {
    "name": "ipython",
    "version": 3
   },
   "file_extension": ".py",
   "mimetype": "text/x-python",
   "name": "python",
   "nbconvert_exporter": "python",
   "pygments_lexer": "ipython3",
   "version": "3.12.0"
  }
 },
 "nbformat": 4,
 "nbformat_minor": 5
}
