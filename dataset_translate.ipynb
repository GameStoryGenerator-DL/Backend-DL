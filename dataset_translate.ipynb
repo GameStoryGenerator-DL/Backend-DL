{
 "cells": [
  {
   "cell_type": "code",
   "execution_count": 1,
   "id": "16977d99-4e8d-4cbd-b97e-8cab0fdc7d72",
   "metadata": {},
   "outputs": [],
   "source": [
    "#pip install googletrans"
   ]
  },
  {
   "cell_type": "code",
   "execution_count": 2,
   "id": "8c8ff87f-9c20-433f-b21e-006debd9f89c",
   "metadata": {},
   "outputs": [],
   "source": [
    "#pip install googletrans==4.0.0-rc1"
   ]
  },
  {
   "cell_type": "code",
   "execution_count": 1,
   "id": "833ef826-538e-497a-8ab5-3878b0671000",
   "metadata": {},
   "outputs": [],
   "source": [
    "import pandas as pd\n",
    "import requests\n",
    "import json"
   ]
  },
  {
   "cell_type": "code",
   "execution_count": 2,
   "id": "7447ac8b-7b8f-4317-84b4-ebe366552135",
   "metadata": {},
   "outputs": [],
   "source": [
    "# Read the CSV file into a DataFrame\n",
    "#df = pd.read_csv('dataset/datasetENG-10k.csv')\n",
    "\n",
    "df = pd.read_csv('dataset/video_game_bestsellers.csv')"
   ]
  },
  {
   "cell_type": "code",
   "execution_count": 3,
   "id": "870c137f-5cc1-4704-87dd-fc0f8f2f7820",
   "metadata": {},
   "outputs": [
    {
     "name": "stdout",
     "output_type": "stream",
     "text": [
      "<class 'pandas.core.frame.DataFrame'>\n",
      "RangeIndex: 89 entries, 0 to 88\n",
      "Data columns (total 2 columns):\n",
      " #   Column       Non-Null Count  Dtype \n",
      "---  ------       --------------  ----- \n",
      " 0   Nom          89 non-null     object\n",
      " 1   Description  89 non-null     object\n",
      "dtypes: object(2)\n",
      "memory usage: 1.5+ KB\n"
     ]
    }
   ],
   "source": [
    "df.info()"
   ]
  },
  {
   "cell_type": "code",
   "execution_count": 4,
   "id": "a27c8482-113a-4296-9862-4f596a38370a",
   "metadata": {},
   "outputs": [],
   "source": [
    "# Leave only 5k rows\n",
    "#df_subset = df.head(3000)\n",
    "#df_subset.to_csv('dataset/datasetENG_short.csv', index=False)"
   ]
  },
  {
   "cell_type": "code",
   "execution_count": 5,
   "id": "1a58f40b-4889-4c9e-ab61-370a3c34effb",
   "metadata": {},
   "outputs": [],
   "source": [
    "#df = pd.read_csv('dataset/datasetENG_short.csv')"
   ]
  },
  {
   "cell_type": "code",
   "execution_count": 8,
   "id": "0044d852-10f4-4ade-a013-0f1470de0e1a",
   "metadata": {},
   "outputs": [],
   "source": [
    "#df.info()"
   ]
  },
  {
   "cell_type": "code",
   "execution_count": 6,
   "id": "ac5af4f6-269a-4816-ab53-d78874942d96",
   "metadata": {},
   "outputs": [
    {
     "name": "stdout",
     "output_type": "stream",
     "text": [
      "Total number of characters in the dataset: 1613362\n"
     ]
    }
   ],
   "source": [
    "# Concatenate text from all columns into a single string\n",
    "#concatenated_text = ' '.join(df['Nom'] + ' ' + df['Description'] + ' ' + df['Categories'] + ' ' + df['Genres'] + ' ' + df['Mots-cles'])\n",
    "concatenated_text = ' '.join(df['Nom'] + ' ' + df['Description'])\n",
    "\n",
    "# Count the number of characters\n",
    "total_characters = len(concatenated_text)\n",
    "\n",
    "print(\"Total number of characters in the dataset:\", total_characters)"
   ]
  },
  {
   "cell_type": "code",
   "execution_count": 7,
   "id": "79259e1b-7fc4-4d79-b6e3-c2cd30901dfc",
   "metadata": {},
   "outputs": [],
   "source": [
    "def translate_text(text):\n",
    "    try:\n",
    "        # Replace 'http://localhost:5000' with the URL of your LibreTranslate API server\n",
    "        response = requests.post('http://localhost:5000/translate', data={'q': text, 'source': 'en', 'target': 'fr'})\n",
    "        translation = json.loads(response.content)\n",
    "        if 'translatedText' in translation:\n",
    "            return translation['translatedText']\n",
    "        else:\n",
    "            print(f\"Translation failed for text: {text}\")\n",
    "            return text\n",
    "    except Exception as e:\n",
    "        print(str(e))\n",
    "        return text"
   ]
  },
  {
   "cell_type": "code",
   "execution_count": 8,
   "id": "72bf58a4-6207-4a52-8ef1-afde63b12591",
   "metadata": {},
   "outputs": [],
   "source": [
    "# Columns to translate\n",
    "#columns_to_translate = ['Nom', 'Description', 'Categories', 'Genres', 'Mots-cles']\n",
    "columns_to_translate = ['Nom', 'Description']"
   ]
  },
  {
   "cell_type": "code",
   "execution_count": 9,
   "id": "fc30961f-ee54-41c5-9f60-617185dd44be",
   "metadata": {},
   "outputs": [
    {
     "name": "stdout",
     "output_type": "stream",
     "text": [
      "('Connection aborted.', RemoteDisconnected('Remote end closed connection without response'))\n",
      "('Connection aborted.', RemoteDisconnected('Remote end closed connection without response'))\n",
      "('Connection aborted.', RemoteDisconnected('Remote end closed connection without response'))\n",
      "('Connection aborted.', RemoteDisconnected('Remote end closed connection without response'))\n",
      "('Connection aborted.', RemoteDisconnected('Remote end closed connection without response'))\n",
      "('Connection aborted.', RemoteDisconnected('Remote end closed connection without response'))\n",
      "('Connection aborted.', RemoteDisconnected('Remote end closed connection without response'))\n",
      "('Connection aborted.', RemoteDisconnected('Remote end closed connection without response'))\n",
      "('Connection aborted.', RemoteDisconnected('Remote end closed connection without response'))\n",
      "('Connection aborted.', RemoteDisconnected('Remote end closed connection without response'))\n",
      "('Connection aborted.', RemoteDisconnected('Remote end closed connection without response'))\n",
      "('Connection aborted.', RemoteDisconnected('Remote end closed connection without response'))\n",
      "('Connection aborted.', RemoteDisconnected('Remote end closed connection without response'))\n",
      "('Connection aborted.', RemoteDisconnected('Remote end closed connection without response'))\n",
      "('Connection aborted.', RemoteDisconnected('Remote end closed connection without response'))\n",
      "('Connection aborted.', RemoteDisconnected('Remote end closed connection without response'))\n",
      "('Connection aborted.', RemoteDisconnected('Remote end closed connection without response'))\n",
      "('Connection aborted.', RemoteDisconnected('Remote end closed connection without response'))\n",
      "('Connection aborted.', RemoteDisconnected('Remote end closed connection without response'))\n",
      "('Connection aborted.', RemoteDisconnected('Remote end closed connection without response'))\n",
      "('Connection aborted.', RemoteDisconnected('Remote end closed connection without response'))\n",
      "('Connection aborted.', RemoteDisconnected('Remote end closed connection without response'))\n",
      "('Connection aborted.', RemoteDisconnected('Remote end closed connection without response'))\n",
      "('Connection aborted.', RemoteDisconnected('Remote end closed connection without response'))\n",
      "('Connection aborted.', RemoteDisconnected('Remote end closed connection without response'))\n",
      "('Connection aborted.', RemoteDisconnected('Remote end closed connection without response'))\n",
      "('Connection aborted.', RemoteDisconnected('Remote end closed connection without response'))\n",
      "('Connection aborted.', RemoteDisconnected('Remote end closed connection without response'))\n",
      "('Connection aborted.', RemoteDisconnected('Remote end closed connection without response'))\n",
      "('Connection aborted.', RemoteDisconnected('Remote end closed connection without response'))\n",
      "('Connection aborted.', RemoteDisconnected('Remote end closed connection without response'))\n",
      "('Connection aborted.', RemoteDisconnected('Remote end closed connection without response'))\n",
      "('Connection aborted.', RemoteDisconnected('Remote end closed connection without response'))\n",
      "('Connection aborted.', RemoteDisconnected('Remote end closed connection without response'))\n",
      "('Connection aborted.', RemoteDisconnected('Remote end closed connection without response'))\n",
      "('Connection aborted.', RemoteDisconnected('Remote end closed connection without response'))\n",
      "('Connection aborted.', RemoteDisconnected('Remote end closed connection without response'))\n",
      "('Connection aborted.', RemoteDisconnected('Remote end closed connection without response'))\n",
      "('Connection aborted.', RemoteDisconnected('Remote end closed connection without response'))\n",
      "('Connection aborted.', RemoteDisconnected('Remote end closed connection without response'))\n",
      "('Connection aborted.', RemoteDisconnected('Remote end closed connection without response'))\n",
      "('Connection aborted.', RemoteDisconnected('Remote end closed connection without response'))\n",
      "('Connection aborted.', RemoteDisconnected('Remote end closed connection without response'))\n",
      "('Connection aborted.', RemoteDisconnected('Remote end closed connection without response'))\n",
      "('Connection aborted.', RemoteDisconnected('Remote end closed connection without response'))\n",
      "('Connection aborted.', RemoteDisconnected('Remote end closed connection without response'))\n",
      "('Connection aborted.', RemoteDisconnected('Remote end closed connection without response'))\n",
      "('Connection aborted.', RemoteDisconnected('Remote end closed connection without response'))\n",
      "('Connection aborted.', RemoteDisconnected('Remote end closed connection without response'))\n",
      "('Connection aborted.', RemoteDisconnected('Remote end closed connection without response'))\n",
      "('Connection aborted.', RemoteDisconnected('Remote end closed connection without response'))\n",
      "('Connection aborted.', RemoteDisconnected('Remote end closed connection without response'))\n",
      "('Connection aborted.', RemoteDisconnected('Remote end closed connection without response'))\n",
      "('Connection aborted.', RemoteDisconnected('Remote end closed connection without response'))\n",
      "('Connection aborted.', RemoteDisconnected('Remote end closed connection without response'))\n",
      "('Connection aborted.', RemoteDisconnected('Remote end closed connection without response'))\n",
      "('Connection aborted.', RemoteDisconnected('Remote end closed connection without response'))\n",
      "('Connection aborted.', RemoteDisconnected('Remote end closed connection without response'))\n",
      "('Connection aborted.', RemoteDisconnected('Remote end closed connection without response'))\n",
      "('Connection aborted.', RemoteDisconnected('Remote end closed connection without response'))\n",
      "('Connection aborted.', RemoteDisconnected('Remote end closed connection without response'))\n",
      "('Connection aborted.', RemoteDisconnected('Remote end closed connection without response'))\n",
      "('Connection aborted.', RemoteDisconnected('Remote end closed connection without response'))\n",
      "('Connection aborted.', RemoteDisconnected('Remote end closed connection without response'))\n",
      "('Connection aborted.', RemoteDisconnected('Remote end closed connection without response'))\n",
      "('Connection aborted.', RemoteDisconnected('Remote end closed connection without response'))\n",
      "('Connection aborted.', RemoteDisconnected('Remote end closed connection without response'))\n",
      "('Connection aborted.', RemoteDisconnected('Remote end closed connection without response'))\n",
      "('Connection aborted.', RemoteDisconnected('Remote end closed connection without response'))\n",
      "('Connection aborted.', RemoteDisconnected('Remote end closed connection without response'))\n",
      "('Connection aborted.', RemoteDisconnected('Remote end closed connection without response'))\n",
      "('Connection aborted.', RemoteDisconnected('Remote end closed connection without response'))\n",
      "('Connection aborted.', RemoteDisconnected('Remote end closed connection without response'))\n",
      "('Connection aborted.', RemoteDisconnected('Remote end closed connection without response'))\n",
      "('Connection aborted.', RemoteDisconnected('Remote end closed connection without response'))\n",
      "('Connection aborted.', RemoteDisconnected('Remote end closed connection without response'))\n",
      "('Connection aborted.', RemoteDisconnected('Remote end closed connection without response'))\n",
      "('Connection aborted.', RemoteDisconnected('Remote end closed connection without response'))\n",
      "('Connection aborted.', RemoteDisconnected('Remote end closed connection without response'))\n",
      "('Connection aborted.', RemoteDisconnected('Remote end closed connection without response'))\n",
      "('Connection aborted.', RemoteDisconnected('Remote end closed connection without response'))\n",
      "('Connection aborted.', RemoteDisconnected('Remote end closed connection without response'))\n",
      "('Connection aborted.', RemoteDisconnected('Remote end closed connection without response'))\n",
      "('Connection aborted.', RemoteDisconnected('Remote end closed connection without response'))\n",
      "('Connection aborted.', RemoteDisconnected('Remote end closed connection without response'))\n",
      "('Connection aborted.', RemoteDisconnected('Remote end closed connection without response'))\n",
      "('Connection aborted.', RemoteDisconnected('Remote end closed connection without response'))\n",
      "('Connection aborted.', RemoteDisconnected('Remote end closed connection without response'))\n",
      "('Connection aborted.', RemoteDisconnected('Remote end closed connection without response'))\n",
      "('Connection aborted.', RemoteDisconnected('Remote end closed connection without response'))\n",
      "('Connection aborted.', RemoteDisconnected('Remote end closed connection without response'))\n",
      "('Connection aborted.', RemoteDisconnected('Remote end closed connection without response'))\n",
      "('Connection aborted.', RemoteDisconnected('Remote end closed connection without response'))\n",
      "('Connection aborted.', RemoteDisconnected('Remote end closed connection without response'))\n",
      "('Connection aborted.', RemoteDisconnected('Remote end closed connection without response'))\n",
      "('Connection aborted.', RemoteDisconnected('Remote end closed connection without response'))\n",
      "('Connection aborted.', RemoteDisconnected('Remote end closed connection without response'))\n",
      "('Connection aborted.', RemoteDisconnected('Remote end closed connection without response'))\n",
      "('Connection aborted.', RemoteDisconnected('Remote end closed connection without response'))\n",
      "('Connection aborted.', RemoteDisconnected('Remote end closed connection without response'))\n",
      "('Connection aborted.', RemoteDisconnected('Remote end closed connection without response'))\n",
      "('Connection aborted.', RemoteDisconnected('Remote end closed connection without response'))\n",
      "('Connection aborted.', RemoteDisconnected('Remote end closed connection without response'))\n",
      "('Connection aborted.', RemoteDisconnected('Remote end closed connection without response'))\n",
      "('Connection aborted.', RemoteDisconnected('Remote end closed connection without response'))\n",
      "('Connection aborted.', RemoteDisconnected('Remote end closed connection without response'))\n",
      "('Connection aborted.', RemoteDisconnected('Remote end closed connection without response'))\n",
      "('Connection aborted.', RemoteDisconnected('Remote end closed connection without response'))\n",
      "('Connection aborted.', RemoteDisconnected('Remote end closed connection without response'))\n",
      "('Connection aborted.', RemoteDisconnected('Remote end closed connection without response'))\n",
      "('Connection aborted.', RemoteDisconnected('Remote end closed connection without response'))\n",
      "('Connection aborted.', RemoteDisconnected('Remote end closed connection without response'))\n",
      "('Connection aborted.', RemoteDisconnected('Remote end closed connection without response'))\n",
      "('Connection aborted.', RemoteDisconnected('Remote end closed connection without response'))\n",
      "('Connection aborted.', RemoteDisconnected('Remote end closed connection without response'))\n",
      "('Connection aborted.', RemoteDisconnected('Remote end closed connection without response'))\n",
      "('Connection aborted.', RemoteDisconnected('Remote end closed connection without response'))\n",
      "('Connection aborted.', RemoteDisconnected('Remote end closed connection without response'))\n",
      "('Connection aborted.', RemoteDisconnected('Remote end closed connection without response'))\n",
      "('Connection aborted.', RemoteDisconnected('Remote end closed connection without response'))\n",
      "('Connection aborted.', RemoteDisconnected('Remote end closed connection without response'))\n",
      "('Connection aborted.', RemoteDisconnected('Remote end closed connection without response'))\n",
      "('Connection aborted.', RemoteDisconnected('Remote end closed connection without response'))\n",
      "('Connection aborted.', RemoteDisconnected('Remote end closed connection without response'))\n",
      "('Connection aborted.', RemoteDisconnected('Remote end closed connection without response'))\n",
      "('Connection aborted.', RemoteDisconnected('Remote end closed connection without response'))\n",
      "('Connection aborted.', RemoteDisconnected('Remote end closed connection without response'))\n",
      "('Connection aborted.', RemoteDisconnected('Remote end closed connection without response'))\n",
      "('Connection aborted.', RemoteDisconnected('Remote end closed connection without response'))\n",
      "('Connection aborted.', RemoteDisconnected('Remote end closed connection without response'))\n",
      "('Connection aborted.', RemoteDisconnected('Remote end closed connection without response'))\n",
      "('Connection aborted.', RemoteDisconnected('Remote end closed connection without response'))\n",
      "('Connection aborted.', RemoteDisconnected('Remote end closed connection without response'))\n",
      "('Connection aborted.', RemoteDisconnected('Remote end closed connection without response'))\n",
      "('Connection aborted.', RemoteDisconnected('Remote end closed connection without response'))\n",
      "('Connection aborted.', RemoteDisconnected('Remote end closed connection without response'))\n",
      "('Connection aborted.', RemoteDisconnected('Remote end closed connection without response'))\n",
      "('Connection aborted.', RemoteDisconnected('Remote end closed connection without response'))\n",
      "('Connection aborted.', RemoteDisconnected('Remote end closed connection without response'))\n",
      "('Connection aborted.', RemoteDisconnected('Remote end closed connection without response'))\n",
      "('Connection aborted.', RemoteDisconnected('Remote end closed connection without response'))\n",
      "('Connection aborted.', RemoteDisconnected('Remote end closed connection without response'))\n",
      "('Connection aborted.', RemoteDisconnected('Remote end closed connection without response'))\n",
      "('Connection aborted.', RemoteDisconnected('Remote end closed connection without response'))\n",
      "('Connection aborted.', RemoteDisconnected('Remote end closed connection without response'))\n",
      "('Connection aborted.', RemoteDisconnected('Remote end closed connection without response'))\n",
      "('Connection aborted.', RemoteDisconnected('Remote end closed connection without response'))\n",
      "('Connection aborted.', RemoteDisconnected('Remote end closed connection without response'))\n",
      "('Connection aborted.', RemoteDisconnected('Remote end closed connection without response'))\n",
      "('Connection aborted.', RemoteDisconnected('Remote end closed connection without response'))\n",
      "('Connection aborted.', RemoteDisconnected('Remote end closed connection without response'))\n",
      "('Connection aborted.', RemoteDisconnected('Remote end closed connection without response'))\n",
      "('Connection aborted.', RemoteDisconnected('Remote end closed connection without response'))\n",
      "('Connection aborted.', RemoteDisconnected('Remote end closed connection without response'))\n",
      "('Connection aborted.', RemoteDisconnected('Remote end closed connection without response'))\n",
      "('Connection aborted.', RemoteDisconnected('Remote end closed connection without response'))\n",
      "('Connection aborted.', RemoteDisconnected('Remote end closed connection without response'))\n",
      "('Connection aborted.', RemoteDisconnected('Remote end closed connection without response'))\n",
      "('Connection aborted.', RemoteDisconnected('Remote end closed connection without response'))\n",
      "('Connection aborted.', RemoteDisconnected('Remote end closed connection without response'))\n",
      "('Connection aborted.', RemoteDisconnected('Remote end closed connection without response'))\n",
      "('Connection aborted.', RemoteDisconnected('Remote end closed connection without response'))\n",
      "('Connection aborted.', RemoteDisconnected('Remote end closed connection without response'))\n",
      "('Connection aborted.', RemoteDisconnected('Remote end closed connection without response'))\n",
      "('Connection aborted.', RemoteDisconnected('Remote end closed connection without response'))\n",
      "('Connection aborted.', RemoteDisconnected('Remote end closed connection without response'))\n",
      "('Connection aborted.', RemoteDisconnected('Remote end closed connection without response'))\n",
      "('Connection aborted.', RemoteDisconnected('Remote end closed connection without response'))\n",
      "('Connection aborted.', RemoteDisconnected('Remote end closed connection without response'))\n",
      "('Connection aborted.', RemoteDisconnected('Remote end closed connection without response'))\n",
      "('Connection aborted.', RemoteDisconnected('Remote end closed connection without response'))\n",
      "('Connection aborted.', RemoteDisconnected('Remote end closed connection without response'))\n",
      "('Connection aborted.', RemoteDisconnected('Remote end closed connection without response'))\n",
      "('Connection aborted.', RemoteDisconnected('Remote end closed connection without response'))\n",
      "('Connection aborted.', RemoteDisconnected('Remote end closed connection without response'))\n",
      "('Connection aborted.', RemoteDisconnected('Remote end closed connection without response'))\n",
      "('Connection aborted.', RemoteDisconnected('Remote end closed connection without response'))\n",
      "('Connection aborted.', RemoteDisconnected('Remote end closed connection without response'))\n"
     ]
    }
   ],
   "source": [
    "for column in columns_to_translate:\n",
    "    df[column] = df[column].apply(translate_text)"
   ]
  },
  {
   "cell_type": "code",
   "execution_count": 13,
   "id": "a0b1fbde-967f-4ef4-9f73-8c04dccfe6a4",
   "metadata": {},
   "outputs": [],
   "source": [
    "#Save the new DataFrame to a new file\n",
    "df.to_csv('dataset/datasetFR-10k.csv', index=False)"
   ]
  }
 ],
 "metadata": {
  "kernelspec": {
   "display_name": "Python 3 (ipykernel)",
   "language": "python",
   "name": "python3"
  },
  "language_info": {
   "codemirror_mode": {
    "name": "ipython",
    "version": 3
   },
   "file_extension": ".py",
   "mimetype": "text/x-python",
   "name": "python",
   "nbconvert_exporter": "python",
   "pygments_lexer": "ipython3",
   "version": "3.12.0"
  }
 },
 "nbformat": 4,
 "nbformat_minor": 5
}
